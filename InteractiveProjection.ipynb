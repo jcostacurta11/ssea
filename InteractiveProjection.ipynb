{
 "cells": [
  {
   "cell_type": "markdown",
   "id": "e19f0c84-5e1f-4d86-9fcf-1d664647aff0",
   "metadata": {},
   "source": [
    "$\n",
    "\\newcommand{\\red}[1]{{\\color{red}{#1}}}\n",
    "\\newcommand{\\green}[1]{{\\color{green}{#1}}}\n",
    "\\newcommand{\\blue}[1]{{\\color{blue}{#1}}}\n",
    "\\newcommand{\\grey}[1]{{\\color{grey}{#1}}}\n",
    "\\newcommand{\\orange}[1]{{\\color{orange}{#1}}}\n",
    "\\newcommand{\\msbr}[1]{\\begin{bmatrix}#1\\end{bmatrix}}\n",
    "$"
   ]
  },
  {
   "cell_type": "code",
   "execution_count": 1,
   "id": "b517eb57-32e2-4942-ab33-59f3b1fab8eb",
   "metadata": {},
   "outputs": [
    {
     "name": "stdout",
     "output_type": "stream",
     "text": [
      "\n",
      "\u001b[1m[\u001b[0m\u001b[34;49mnotice\u001b[0m\u001b[1;39;49m]\u001b[0m\u001b[39;49m A new release of pip is available: \u001b[0m\u001b[31;49m23.2\u001b[0m\u001b[39;49m -> \u001b[0m\u001b[32;49m23.2.1\u001b[0m\n",
      "\u001b[1m[\u001b[0m\u001b[34;49mnotice\u001b[0m\u001b[1;39;49m]\u001b[0m\u001b[39;49m To update, run: \u001b[0m\u001b[32;49mpip install --upgrade pip\u001b[0m\n",
      "Note: you may need to restart the kernel to use updated packages.\n"
     ]
    }
   ],
   "source": [
    "%pip install -q ipympl\n",
    "%matplotlib widget\n",
    "from proj import *"
   ]
  },
  {
   "cell_type": "code",
   "execution_count": 2,
   "id": "6eabb380-706e-4b3a-81c4-982a3bcbfb18",
   "metadata": {},
   "outputs": [
    {
     "data": {
      "text/markdown": [
       "$ \\green{\\mathbf{u}} = \\green{ \\begin{bmatrix} 1.00 \\\\ -0.50 \\\\ 0.00 \\end{bmatrix} } $, $ \\blue{\\mathbf{v}} = \\blue{ \\begin{bmatrix} 1.00 \\\\ -1.00 \\\\ 1.00 \\end{bmatrix} } $"
      ],
      "text/plain": [
       "<IPython.core.display.Markdown object>"
      ]
     },
     "metadata": {},
     "output_type": "display_data"
    }
   ],
   "source": [
    "u = vec(1.0, -1.0/2.0, 0.0)\n",
    "v = vec(1.0, -1.0, 1.0)\n",
    "\n",
    "display(Markdown(\"$ \\\\green{\\\\mathbf{u}} = \\\\green{ \" + vec_to_str(u) + \" } $, $ \\\\blue{\\\\mathbf{v}} = \\\\blue{ \" + vec_to_str(v) + \" } $\"))"
   ]
  },
  {
   "cell_type": "code",
   "execution_count": 3,
   "id": "361a9b44-80cb-4239-8916-40e7705f96a2",
   "metadata": {},
   "outputs": [
    {
     "data": {
      "text/markdown": [
       "$ \\orange{V} : 1.00 x + 2.00 y + 1.00 z + 0.00 = 0 $"
      ],
      "text/plain": [
       "<IPython.core.display.Markdown object>"
      ]
     },
     "metadata": {},
     "output_type": "display_data"
    }
   ],
   "source": [
    "a, b, c, d = 1.0, 2.0, 1.0, 0.0\n",
    "\n",
    "display(Markdown(\"$ \\\\orange{V} : \" + \"{:.2f}\".format(a) + \" x + \" + \"{:.2f}\".format(b) + \" y + \" + \"{:.2f}\".format(c) + \" z + \" + \"{:.2f}\".format(d) + \" = 0 $\"))"
   ]
  },
  {
   "cell_type": "code",
   "execution_count": 4,
   "id": "3f28455a-d5ae-41b7-966d-62b3b83d7ae3",
   "metadata": {},
   "outputs": [
    {
     "data": {
      "application/vnd.jupyter.widget-view+json": {
       "model_id": "527f2ba3cef34d0fa256c0d062cd594a",
       "version_major": 2,
       "version_minor": 0
      },
      "text/plain": [
       "HBox(children=(FloatSlider(value=1.23, description='s', layout=Layout(height='6in'), max=2.0, min=-2.0, orient…"
      ]
     },
     "metadata": {},
     "output_type": "display_data"
    }
   ],
   "source": [
    "s = 1.23\n",
    "t = -0.23\n",
    "w = s*u + t*v\n",
    "\n",
    "fig, ax, ss, st = init_fig_2(u, v, s, t)\n",
    "\n",
    "# Draw the plane defined by a*x + b*y + c*z + d = 0\n",
    "draw_plane(ax, (a, b, c, d))\n",
    "# Draw the vectors\n",
    "draw_u(ax, u)\n",
    "draw_v(ax, v)\n",
    "draw_w(ax, w)\n",
    "# Draw the coordinate axes\n",
    "draw_axes(ax)\n",
    "# Draw the unit cube\n",
    "draw_cube(ax)\n",
    "# Draw the intersection between the plane and the unit cube in dashed lines\n",
    "draw_intersection_cube(ax, (a, b, c, d))\n",
    "\n",
    "render_fig_2(fig, ss, st)"
   ]
  },
  {
   "cell_type": "code",
   "execution_count": 5,
   "id": "42f93bc4-93dc-418e-a17e-e4e66eb509c1",
   "metadata": {},
   "outputs": [
    {
     "data": {
      "text/markdown": [
       "$ \\red{\\mathbf{p}} = \\red{ \\begin{bmatrix} 1.63 \\\\ 0.82 \\\\ -0.82 \\end{bmatrix} } $ "
      ],
      "text/plain": [
       "<IPython.core.display.Markdown object>"
      ]
     },
     "metadata": {},
     "output_type": "display_data"
    }
   ],
   "source": [
    "p = vec(4.0/sqrt(6.0), 2.0/sqrt(6.0), -2.0/(sqrt(6.0)))\n",
    "\n",
    "display(Markdown(\"$ \\\\red{\\\\mathbf{p}} = \\\\red{ \" + vec_to_str(p) + \" } $ \"))"
   ]
  },
  {
   "cell_type": "code",
   "execution_count": 6,
   "id": "d116dca4-5fd5-462e-a6e3-c6f9c2a34d0f",
   "metadata": {},
   "outputs": [
    {
     "data": {
      "text/markdown": [
       "$ \\grey{\\mathbf{q}} = \\grey{ \\begin{bmatrix} 1.22 \\\\ 0.00 \\\\ -1.22 \\end{bmatrix} } $ "
      ],
      "text/plain": [
       "<IPython.core.display.Markdown object>"
      ]
     },
     "metadata": {},
     "output_type": "display_data"
    }
   ],
   "source": [
    "u1 = u\n",
    "u1 /= norm(u1)\n",
    "v1 = v - dot(v, u) / dot(u, u) * u\n",
    "v1 /= norm(v1)\n",
    "q = dot(p, u1) * u1 + dot(p, v1) * v1\n",
    "\n",
    "display(Markdown(\"$ \\\\grey{\\\\mathbf{q}} = \\\\grey{ \" + vec_to_str(q) + \" } $ \"))"
   ]
  },
  {
   "cell_type": "code",
   "execution_count": 7,
   "id": "1cbe2efa-59a6-4b2a-bd62-320a729105b3",
   "metadata": {},
   "outputs": [
    {
     "data": {
      "text/markdown": [
       "$ \\| \\red{\\mathbf{p}} \\| = 2.00 $, $ \\| \\grey{\\mathbf{q}} \\| = 1.73 $, $ \\| \\red{\\mathbf{p}} - \\grey{\\mathbf{q}} \\| = 1.00 $ "
      ],
      "text/plain": [
       "<IPython.core.display.Markdown object>"
      ]
     },
     "metadata": {},
     "output_type": "display_data"
    }
   ],
   "source": [
    "display(Markdown(\"$ \\\\| \\\\red{\\\\mathbf{p}} \\| = \" + \"{:.2f}\".format(norm(p)) + \" $, $ \\\\| \\\\grey{\\\\mathbf{q}} \\| = \" + \"{:.2f}\".format(norm(q)) + \" $, $ \\\\| \\\\red{\\\\mathbf{p}} - \\\\grey{\\\\mathbf{q}} \\| = \" + \"{:.2f}\".format(norm( p - q )) + \" $ \"))"
   ]
  },
  {
   "cell_type": "code",
   "execution_count": 8,
   "id": "8de1fb7e-0997-414e-b527-1eab7993695a",
   "metadata": {},
   "outputs": [
    {
     "data": {
      "application/vnd.jupyter.widget-view+json": {
       "model_id": "9c5d133f37ff4ff6a7944fabbe0e7262",
       "version_major": 2,
       "version_minor": 0
      },
      "text/plain": [
       "HBox(children=(FloatSlider(value=2.0, description='r', layout=Layout(height='6in'), max=3.0, orientation='vert…"
      ]
     },
     "metadata": {},
     "output_type": "display_data"
    }
   ],
   "source": [
    "r = 2.0\n",
    "fig, ax, sr, sth = init_fig_3(p, (a, b, c, d), r)\n",
    "\n",
    "# Draw the plane\n",
    "draw_plane(ax, (a, b, c, d))\n",
    "# Draw the vectors\n",
    "draw_u(ax, u)\n",
    "draw_v(ax, v)\n",
    "draw_p(ax, p)\n",
    "# Draw the coordinate axes\n",
    "draw_axes(ax)\n",
    "# Draw the unit cube\n",
    "draw_cube(ax)\n",
    "# Draw the intersection between the plane and the unit cube\n",
    "draw_intersection_cube(ax, (a, b, c, d))\n",
    "# Draw a sphere centered at P\n",
    "draw_sphere(ax, p, r)\n",
    "# Draw the intersection between the plane and the sphere in dashed lines\n",
    "draw_intersection_sphere(ax, r)\n",
    "\n",
    "# Find one qq whose endpoint lies on the intersection\n",
    "qq = get_qq(r)\n",
    "# Draw the vector qq\n",
    "draw_qq(ax, p, qq)\n",
    "\n",
    "# Draw the foot q\n",
    "draw_q(ax, p, q)\n",
    "\n",
    "render_fig_3(fig, sr, sth)"
   ]
  },
  {
   "cell_type": "code",
   "execution_count": null,
   "id": "1956e4ba-feee-4828-aaf7-79b33a6a6357",
   "metadata": {},
   "outputs": [],
   "source": []
  }
 ],
 "metadata": {
  "kernelspec": {
   "display_name": "Python 3 (ipykernel)",
   "language": "python",
   "name": "python3"
  },
  "language_info": {
   "codemirror_mode": {
    "name": "ipython",
    "version": 3
   },
   "file_extension": ".py",
   "mimetype": "text/x-python",
   "name": "python",
   "nbconvert_exporter": "python",
   "pygments_lexer": "ipython3",
   "version": "3.11.3"
  }
 },
 "nbformat": 4,
 "nbformat_minor": 5
}
