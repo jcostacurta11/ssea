{
 "cells": [
  {
   "cell_type": "markdown",
   "id": "01e0ef7c-082d-4560-83dd-dceb26bb7da4",
   "metadata": {
    "id": "01e0ef7c-082d-4560-83dd-dceb26bb7da4"
   },
   "source": [
    "$\n",
    "\\newcommand{\\msbr}[1]{\\begin{bmatrix}#1\\end{bmatrix}}\n",
    "$"
   ]
  },
  {
   "cell_type": "code",
   "execution_count": 1,
   "id": "eab8576d-fb1d-43ec-a705-d47fb0f934ac",
   "metadata": {
    "colab": {
     "base_uri": "https://localhost:8080/"
    },
    "executionInfo": {
     "elapsed": 10500,
     "status": "ok",
     "timestamp": 1690152836866,
     "user": {
      "displayName": "Julia Christina Costacurta",
      "userId": "08441453748698283467"
     },
     "user_tz": 420
    },
    "id": "eab8576d-fb1d-43ec-a705-d47fb0f934ac",
    "outputId": "98ee8eef-bafb-444b-a9bb-c792d55ef112"
   },
   "outputs": [
    {
     "name": "stdout",
     "output_type": "stream",
     "text": [
      "Note: you may need to restart the kernel to use updated packages.\n"
     ]
    }
   ],
   "source": [
    "# !wget -q https://raw.githubusercontent.com/jcostacurta11/ssea/main/reg.py -O reg.py\n",
    "%pip install -q ipympl pandas\n",
    "from reg import *"
   ]
  },
  {
   "cell_type": "markdown",
   "id": "8683f5f4-8878-4006-b442-76297e47e1aa",
   "metadata": {
    "id": "8683f5f4-8878-4006-b442-76297e47e1aa"
   },
   "source": [
    "# Interactive Linear Regression Activity"
   ]
  },
  {
   "cell_type": "markdown",
   "id": "4321b1ea-7352-48b6-b284-fbb191608cc3",
   "metadata": {
    "id": "4321b1ea-7352-48b6-b284-fbb191608cc3"
   },
   "source": [
    "In this activity, we are going to implement linear regression by codes and explore how to do data analysis.\n",
    "\n",
    "First, let us choose the data we want to analyze. We have loaded a few datasets for you to work with. To start, select the **ice_cream** dataset from the options below."
   ]
  },
  {
   "cell_type": "code",
   "execution_count": 2,
   "id": "77057c2c-5dce-409d-95f7-be01835d8410",
   "metadata": {
    "colab": {
     "base_uri": "https://localhost:8080/",
     "height": 772,
     "referenced_widgets": [
      "4b547d2391c248d4b4108aa24d5a502d",
      "8a620358a5b24b03808fe292132cf272",
      "03f25cedcd2940bc9427840e4d7030a8",
      "80dfdea6e45a4c98842aeaacfbcba304",
      "265000cd9461496d8cafd4339622472b",
      "3d276b2d2786410a9d7987c3a275a808",
      "7e288dbfab264f5cbdf9bc2f00e05542",
      "a703c0ee980a43268ea307e615098179",
      "6def3067026d4157b7a0bf058101b268",
      "9e183a66a56840b89a2f68d48989f9a4",
      "291a333b9a454659a82c123bc9589407",
      "d7c92ac7989d424388eb2db6df11ceb3",
      "8e1a11ab980b4ed1be0c84adeb2b9b8f",
      "bf1773c586b445e59a01f984e0c9601d",
      "dc35bbe7f3aa42b0b14814c4fb1f962d",
      "3e2fc7b4b319482a80e6f8defb6e3fbf",
      "f256374de4ce4771aaa63dec105d362a",
      "8bcfff42da644039b81f8c9865233754",
      "e10cdf76fad74bbd9de3eb6b8e38bbcf",
      "f8169c6fc8624cc99d27e45bac010ee4",
      "2f50b0070a3840f4ae5f285af0ee3628",
      "64a6dc02336e4487a17966829da28fa4"
     ]
    },
    "executionInfo": {
     "elapsed": 183,
     "status": "ok",
     "timestamp": 1690152837014,
     "user": {
      "displayName": "Julia Christina Costacurta",
      "userId": "08441453748698283467"
     },
     "user_tz": 420
    },
    "id": "77057c2c-5dce-409d-95f7-be01835d8410",
    "outputId": "5cf8c044-229f-4246-f46f-a0be9089e59f"
   },
   "outputs": [
    {
     "data": {
      "application/vnd.jupyter.widget-view+json": {
       "model_id": "0895e70e2d0241a894e208863c7cff27",
       "version_major": 2,
       "version_minor": 0
      },
      "text/plain": [
       "HBox(children=(VBox(children=(HBox(children=(VBox(children=(Label(value='Dataset: '), Select(layout=Layout(hei…"
      ]
     },
     "metadata": {},
     "output_type": "display_data"
    }
   ],
   "source": [
    "select_data()"
   ]
  },
  {
   "cell_type": "markdown",
   "id": "0267d005-fbb6-45e3-befd-db468d1ecc36",
   "metadata": {
    "id": "0267d005-fbb6-45e3-befd-db468d1ecc36"
   },
   "source": [
    "Then let us define three vectors showing up in a linear regression."
   ]
  },
  {
   "cell_type": "code",
   "execution_count": null,
   "id": "3f0d8f47-63fe-4e83-b509-7ffc421466ab",
   "metadata": {
    "colab": {
     "base_uri": "https://localhost:8080/",
     "height": 110
    },
    "executionInfo": {
     "elapsed": 399,
     "status": "ok",
     "timestamp": 1690152845417,
     "user": {
      "displayName": "Julia Christina Costacurta",
      "userId": "08441453748698283467"
     },
     "user_tz": 420
    },
    "id": "3f0d8f47-63fe-4e83-b509-7ffc421466ab",
    "outputId": "e6ce54a3-5771-423c-afd8-c5b5197abd8f"
   },
   "outputs": [],
   "source": [
    "x, y, one = get_x(), get_y(), get_one()\n",
    "\n",
    "print_1(x, y, one)"
   ]
  },
  {
   "cell_type": "markdown",
   "id": "e07635f3-e372-4d8d-b964-df7dfc2c68f3",
   "metadata": {
    "id": "e07635f3-e372-4d8d-b964-df7dfc2c68f3"
   },
   "source": [
    "We want to project the vector $\\mathbf{Y}$ to the subspace $W$ spanned by $\\mathbf{X}$ and $\\mathbf{1}$. We need to first find an orthogonal basis $ \\{ \\widehat{\\mathbf{X}}, \\mathbf{1} \\} $ of $W$. One possible choice is $ \\widehat{\\mathbf{X}} = \\mathbf{X} - \\mathbf{Proj}_{\\mathbf{1}} \\mathbf{X} $. If now $ \\widehat{\\mathbf{X}} = \\mathbf{X} - c \\mathbf{1} $, how do we compute $c$?"
   ]
  },
  {
   "cell_type": "code",
   "execution_count": null,
   "id": "778011d8-c6f5-40ca-8f0f-d90494af3b4a",
   "metadata": {
    "colab": {
     "base_uri": "https://localhost:8080/",
     "height": 110
    },
    "executionInfo": {
     "elapsed": 4,
     "status": "ok",
     "timestamp": 1690152845598,
     "user": {
      "displayName": "Julia Christina Costacurta",
      "userId": "08441453748698283467"
     },
     "user_tz": 420
    },
    "id": "778011d8-c6f5-40ca-8f0f-d90494af3b4a",
    "outputId": "b3c2d511-2b59-46de-f9bf-51713f51f8e2"
   },
   "outputs": [],
   "source": [
    "# Use dot(u, v) to take the dot product of two vectors\n",
    "# And use norm(u) to find the norm of a vector\n",
    "# c = ... # Fill in some code here\n",
    "c = dot(x, one) / dot(one, one)\n",
    "\n",
    "x_hat = x - c * one\n",
    "\n",
    "print_2(c, x_hat)"
   ]
  },
  {
   "cell_type": "markdown",
   "id": "304d2a46-4e41-4051-8eea-23639be5dada",
   "metadata": {
    "id": "304d2a46-4e41-4051-8eea-23639be5dada"
   },
   "source": [
    "Now let us do the projection! The projection can be written as $ \\mathbf{Proj}_{W} \\mathbf{Y} = d \\widehat{\\mathbf{X}} + e \\mathbf{1} $, where $ \\{ \\widehat{\\mathbf{X}}, \\mathbf{1} \\} $ is an orthogonal basis of $W$. How do we compute $d$ and $e$?"
   ]
  },
  {
   "cell_type": "code",
   "execution_count": null,
   "id": "0e8e71fa-8bc0-431f-ba5e-0c3985718cf6",
   "metadata": {
    "colab": {
     "base_uri": "https://localhost:8080/",
     "height": 51
    },
    "executionInfo": {
     "elapsed": 8,
     "status": "ok",
     "timestamp": 1690152847235,
     "user": {
      "displayName": "Julia Christina Costacurta",
      "userId": "08441453748698283467"
     },
     "user_tz": 420
    },
    "id": "0e8e71fa-8bc0-431f-ba5e-0c3985718cf6",
    "outputId": "70a60009-b669-4fef-ad70-c535d4311709"
   },
   "outputs": [],
   "source": [
    "# d = ... # Fill in some code here\n",
    "# e = ... # Fill in some code here\n",
    "d = dot(y, x_hat) / dot(x_hat, x_hat)\n",
    "e = dot(y, one) / dot(one, one)\n",
    "\n",
    "print_3(d, e)"
   ]
  },
  {
   "cell_type": "markdown",
   "id": "0ac1761d-2612-4d1b-9426-07b1e4b639c1",
   "metadata": {
    "id": "0ac1761d-2612-4d1b-9426-07b1e4b639c1"
   },
   "source": [
    "If we have $ \\mathbf{Proj}_W \\mathbf{Y} = m \\mathbf{X} + b \\mathbf{1} $, the best fit line is then $ y = m x + b $. However, the projection formula only expresses $\\mathbf{Proj}_W$ as a linear combination of $\\widehat{\\mathbf{X}}$ and $\\mathbf{1}$. How do we find $m$ and $b$ in terms of $c$, $d$, and $e$ above?"
   ]
  },
  {
   "cell_type": "code",
   "execution_count": null,
   "id": "fcce6682-34ea-4f51-a98b-fda1c3a98bf4",
   "metadata": {
    "colab": {
     "base_uri": "https://localhost:8080/",
     "height": 51
    },
    "executionInfo": {
     "elapsed": 9,
     "status": "ok",
     "timestamp": 1690152848530,
     "user": {
      "displayName": "Julia Christina Costacurta",
      "userId": "08441453748698283467"
     },
     "user_tz": 420
    },
    "id": "fcce6682-34ea-4f51-a98b-fda1c3a98bf4",
    "outputId": "2121e5ae-9e7f-4cd7-a863-1a45782bd682"
   },
   "outputs": [],
   "source": [
    "# m = ... # Fill in some code here\n",
    "# b = ... # Fill in some code here\n",
    "m = d\n",
    "b = e - c * d\n",
    "\n",
    "print_4(m, b)"
   ]
  },
  {
   "cell_type": "markdown",
   "id": "daa10711-491d-4717-8320-1c96468a8084",
   "metadata": {
    "id": "daa10711-491d-4717-8320-1c96468a8084"
   },
   "source": [
    "Now let us draw the best fit line! What can we learn from the best fit line? How does the best fit line fit the data? Are there any qualitative reasons why it fits well or badly?"
   ]
  },
  {
   "cell_type": "code",
   "execution_count": null,
   "id": "d16ac976-b23f-43d9-b880-e84a0dd90150",
   "metadata": {
    "colab": {
     "base_uri": "https://localhost:8080/",
     "height": 625,
     "referenced_widgets": [
      "bcdfa71c91e44c9994f519d2c3b6f7bb",
      "69d33f06a6a74374a459c05063929f10",
      "684c1574e71a4b9fba2c974c35eba477",
      "a8363228e9004f32a614a308a3e2f9b1"
     ]
    },
    "executionInfo": {
     "elapsed": 316,
     "status": "ok",
     "timestamp": 1690152857106,
     "user": {
      "displayName": "Julia Christina Costacurta",
      "userId": "08441453748698283467"
     },
     "user_tz": 420
    },
    "id": "d16ac976-b23f-43d9-b880-e84a0dd90150",
    "outputId": "2eef74ea-d1ac-49d3-a19e-ce675d16883e"
   },
   "outputs": [],
   "source": [
    "draw_best_fit_line(m, b)"
   ]
  }
 ],
 "metadata": {
  "colab": {
   "provenance": []
  },
  "kernelspec": {
   "display_name": "Python 3 (ipykernel)",
   "language": "python",
   "name": "python3"
  },
  "language_info": {
   "codemirror_mode": {
    "name": "ipython",
    "version": 3
   },
   "file_extension": ".py",
   "mimetype": "text/x-python",
   "name": "python",
   "nbconvert_exporter": "python",
   "pygments_lexer": "ipython3",
   "version": "3.11.3"
  },
  "widgets": {
   "application/vnd.jupyter.widget-state+json": {
    "03f25cedcd2940bc9427840e4d7030a8": {
     "model_module": "@jupyter-widgets/controls",
     "model_module_version": "1.5.0",
     "model_name": "HBoxModel",
     "state": {
      "_dom_classes": [],
      "_model_module": "@jupyter-widgets/controls",
      "_model_module_version": "1.5.0",
      "_model_name": "HBoxModel",
      "_view_count": null,
      "_view_module": "@jupyter-widgets/controls",
      "_view_module_version": "1.5.0",
      "_view_name": "HBoxView",
      "box_style": "",
      "children": [
       "IPY_MODEL_6def3067026d4157b7a0bf058101b268",
       "IPY_MODEL_9e183a66a56840b89a2f68d48989f9a4"
      ],
      "layout": "IPY_MODEL_291a333b9a454659a82c123bc9589407"
     }
    },
    "265000cd9461496d8cafd4339622472b": {
     "model_module": "@jupyter-widgets/base",
     "model_module_version": "1.2.0",
     "model_name": "LayoutModel",
     "state": {
      "_model_module": "@jupyter-widgets/base",
      "_model_module_version": "1.2.0",
      "_model_name": "LayoutModel",
      "_view_count": null,
      "_view_module": "@jupyter-widgets/base",
      "_view_module_version": "1.2.0",
      "_view_name": "LayoutView",
      "align_content": null,
      "align_items": null,
      "align_self": null,
      "border": null,
      "bottom": null,
      "display": null,
      "flex": null,
      "flex_flow": null,
      "grid_area": null,
      "grid_auto_columns": null,
      "grid_auto_flow": null,
      "grid_auto_rows": null,
      "grid_column": null,
      "grid_gap": null,
      "grid_row": null,
      "grid_template_areas": null,
      "grid_template_columns": null,
      "grid_template_rows": null,
      "height": null,
      "justify_content": null,
      "justify_items": null,
      "left": null,
      "margin": null,
      "max_height": null,
      "max_width": null,
      "min_height": null,
      "min_width": null,
      "object_fit": null,
      "object_position": null,
      "order": null,
      "overflow": null,
      "overflow_x": null,
      "overflow_y": null,
      "padding": null,
      "right": null,
      "top": null,
      "visibility": null,
      "width": null
     }
    },
    "291a333b9a454659a82c123bc9589407": {
     "model_module": "@jupyter-widgets/base",
     "model_module_version": "1.2.0",
     "model_name": "LayoutModel",
     "state": {
      "_model_module": "@jupyter-widgets/base",
      "_model_module_version": "1.2.0",
      "_model_name": "LayoutModel",
      "_view_count": null,
      "_view_module": "@jupyter-widgets/base",
      "_view_module_version": "1.2.0",
      "_view_name": "LayoutView",
      "align_content": null,
      "align_items": null,
      "align_self": null,
      "border": null,
      "bottom": null,
      "display": null,
      "flex": null,
      "flex_flow": null,
      "grid_area": null,
      "grid_auto_columns": null,
      "grid_auto_flow": null,
      "grid_auto_rows": null,
      "grid_column": null,
      "grid_gap": null,
      "grid_row": null,
      "grid_template_areas": null,
      "grid_template_columns": null,
      "grid_template_rows": null,
      "height": null,
      "justify_content": null,
      "justify_items": null,
      "left": null,
      "margin": null,
      "max_height": null,
      "max_width": null,
      "min_height": null,
      "min_width": null,
      "object_fit": null,
      "object_position": null,
      "order": null,
      "overflow": null,
      "overflow_x": null,
      "overflow_y": null,
      "padding": null,
      "right": null,
      "top": null,
      "visibility": null,
      "width": null
     }
    },
    "2f50b0070a3840f4ae5f285af0ee3628": {
     "model_module": "jupyter-matplotlib",
     "model_module_version": "^0.11",
     "model_name": "ToolbarModel",
     "state": {
      "_current_action": "",
      "_dom_classes": [],
      "_model_module": "jupyter-matplotlib",
      "_model_module_version": "^0.11",
      "_model_name": "ToolbarModel",
      "_view_count": null,
      "_view_module": "jupyter-matplotlib",
      "_view_module_version": "^0.11",
      "_view_name": "ToolbarView",
      "button_style": "",
      "collapsed": true,
      "layout": "IPY_MODEL_64a6dc02336e4487a17966829da28fa4",
      "orientation": "vertical",
      "toolitems": [
       [
        "Home",
        "Reset original view",
        "home",
        "home"
       ],
       [
        "Back",
        "Back to previous view",
        "arrow-left",
        "back"
       ],
       [
        "Forward",
        "Forward to next view",
        "arrow-right",
        "forward"
       ],
       [
        "Pan",
        "Left button pans, Right button zooms\nx/y fixes axis, CTRL fixes aspect",
        "arrows",
        "pan"
       ],
       [
        "Zoom",
        "Zoom to rectangle\nx/y fixes axis",
        "square-o",
        "zoom"
       ],
       [
        "Download",
        "Download plot",
        "floppy-o",
        "save_figure"
       ]
      ]
     }
    },
    "3d276b2d2786410a9d7987c3a275a808": {
     "model_module": "@jupyter-widgets/controls",
     "model_module_version": "1.5.0",
     "model_name": "SelectModel",
     "state": {
      "_dom_classes": [],
      "_model_module": "@jupyter-widgets/controls",
      "_model_module_version": "1.5.0",
      "_model_name": "SelectModel",
      "_options_labels": [
       "ice_cream",
       "book1",
       "book2",
       "concrete",
       "diabetes",
       "nyse",
       "nba",
       "spotify"
      ],
      "_view_count": null,
      "_view_module": "@jupyter-widgets/controls",
      "_view_module_version": "1.5.0",
      "_view_name": "SelectView",
      "description": "dataset:",
      "description_tooltip": null,
      "disabled": false,
      "index": 0,
      "layout": "IPY_MODEL_d7c92ac7989d424388eb2db6df11ceb3",
      "rows": 5,
      "style": "IPY_MODEL_8e1a11ab980b4ed1be0c84adeb2b9b8f"
     }
    },
    "3e2fc7b4b319482a80e6f8defb6e3fbf": {
     "model_module": "@jupyter-widgets/base",
     "model_module_version": "1.2.0",
     "model_name": "LayoutModel",
     "state": {
      "_model_module": "@jupyter-widgets/base",
      "_model_module_version": "1.2.0",
      "_model_name": "LayoutModel",
      "_view_count": null,
      "_view_module": "@jupyter-widgets/base",
      "_view_module_version": "1.2.0",
      "_view_name": "LayoutView",
      "align_content": null,
      "align_items": null,
      "align_self": null,
      "border": null,
      "bottom": null,
      "display": null,
      "flex": null,
      "flex_flow": null,
      "grid_area": null,
      "grid_auto_columns": null,
      "grid_auto_flow": null,
      "grid_auto_rows": null,
      "grid_column": null,
      "grid_gap": null,
      "grid_row": null,
      "grid_template_areas": null,
      "grid_template_columns": null,
      "grid_template_rows": null,
      "height": null,
      "justify_content": null,
      "justify_items": null,
      "left": null,
      "margin": null,
      "max_height": null,
      "max_width": null,
      "min_height": null,
      "min_width": null,
      "object_fit": null,
      "object_position": null,
      "order": null,
      "overflow": null,
      "overflow_x": null,
      "overflow_y": null,
      "padding": null,
      "right": null,
      "top": null,
      "visibility": null,
      "width": null
     }
    },
    "4b547d2391c248d4b4108aa24d5a502d": {
     "model_module": "@jupyter-widgets/controls",
     "model_module_version": "1.5.0",
     "model_name": "VBoxModel",
     "state": {
      "_dom_classes": [],
      "_model_module": "@jupyter-widgets/controls",
      "_model_module_version": "1.5.0",
      "_model_name": "VBoxModel",
      "_view_count": null,
      "_view_module": "@jupyter-widgets/controls",
      "_view_module_version": "1.5.0",
      "_view_name": "VBoxView",
      "box_style": "",
      "children": [
       "IPY_MODEL_8a620358a5b24b03808fe292132cf272",
       "IPY_MODEL_03f25cedcd2940bc9427840e4d7030a8",
       "IPY_MODEL_80dfdea6e45a4c98842aeaacfbcba304"
      ],
      "layout": "IPY_MODEL_265000cd9461496d8cafd4339622472b"
     }
    },
    "64a6dc02336e4487a17966829da28fa4": {
     "model_module": "@jupyter-widgets/base",
     "model_module_version": "1.2.0",
     "model_name": "LayoutModel",
     "state": {
      "_model_module": "@jupyter-widgets/base",
      "_model_module_version": "1.2.0",
      "_model_name": "LayoutModel",
      "_view_count": null,
      "_view_module": "@jupyter-widgets/base",
      "_view_module_version": "1.2.0",
      "_view_name": "LayoutView",
      "align_content": null,
      "align_items": null,
      "align_self": null,
      "border": null,
      "bottom": null,
      "display": null,
      "flex": null,
      "flex_flow": null,
      "grid_area": null,
      "grid_auto_columns": null,
      "grid_auto_flow": null,
      "grid_auto_rows": null,
      "grid_column": null,
      "grid_gap": null,
      "grid_row": null,
      "grid_template_areas": null,
      "grid_template_columns": null,
      "grid_template_rows": null,
      "height": null,
      "justify_content": null,
      "justify_items": null,
      "left": null,
      "margin": null,
      "max_height": null,
      "max_width": null,
      "min_height": null,
      "min_width": null,
      "object_fit": null,
      "object_position": null,
      "order": null,
      "overflow": null,
      "overflow_x": null,
      "overflow_y": null,
      "padding": null,
      "right": null,
      "top": null,
      "visibility": null,
      "width": null
     }
    },
    "684c1574e71a4b9fba2c974c35eba477": {
     "model_module": "jupyter-matplotlib",
     "model_module_version": "^0.11",
     "model_name": "ToolbarModel",
     "state": {
      "_current_action": "",
      "_dom_classes": [],
      "_model_module": "jupyter-matplotlib",
      "_model_module_version": "^0.11",
      "_model_name": "ToolbarModel",
      "_view_count": null,
      "_view_module": "jupyter-matplotlib",
      "_view_module_version": "^0.11",
      "_view_name": "ToolbarView",
      "button_style": "",
      "collapsed": true,
      "layout": "IPY_MODEL_a8363228e9004f32a614a308a3e2f9b1",
      "orientation": "vertical",
      "toolitems": [
       [
        "Home",
        "Reset original view",
        "home",
        "home"
       ],
       [
        "Back",
        "Back to previous view",
        "arrow-left",
        "back"
       ],
       [
        "Forward",
        "Forward to next view",
        "arrow-right",
        "forward"
       ],
       [
        "Pan",
        "Left button pans, Right button zooms\nx/y fixes axis, CTRL fixes aspect",
        "arrows",
        "pan"
       ],
       [
        "Zoom",
        "Zoom to rectangle\nx/y fixes axis",
        "square-o",
        "zoom"
       ],
       [
        "Download",
        "Download plot",
        "floppy-o",
        "save_figure"
       ]
      ]
     }
    },
    "69d33f06a6a74374a459c05063929f10": {
     "model_module": "@jupyter-widgets/base",
     "model_module_version": "1.2.0",
     "model_name": "LayoutModel",
     "state": {
      "_model_module": "@jupyter-widgets/base",
      "_model_module_version": "1.2.0",
      "_model_name": "LayoutModel",
      "_view_count": null,
      "_view_module": "@jupyter-widgets/base",
      "_view_module_version": "1.2.0",
      "_view_name": "LayoutView",
      "align_content": null,
      "align_items": null,
      "align_self": null,
      "border": null,
      "bottom": null,
      "display": null,
      "flex": null,
      "flex_flow": null,
      "grid_area": null,
      "grid_auto_columns": null,
      "grid_auto_flow": null,
      "grid_auto_rows": null,
      "grid_column": null,
      "grid_gap": null,
      "grid_row": null,
      "grid_template_areas": null,
      "grid_template_columns": null,
      "grid_template_rows": null,
      "height": null,
      "justify_content": null,
      "justify_items": null,
      "left": null,
      "margin": null,
      "max_height": null,
      "max_width": null,
      "min_height": null,
      "min_width": null,
      "object_fit": null,
      "object_position": null,
      "order": null,
      "overflow": null,
      "overflow_x": null,
      "overflow_y": null,
      "padding": null,
      "right": null,
      "top": null,
      "visibility": null,
      "width": null
     }
    },
    "6def3067026d4157b7a0bf058101b268": {
     "model_module": "@jupyter-widgets/controls",
     "model_module_version": "1.5.0",
     "model_name": "SelectModel",
     "state": {
      "_dom_classes": [],
      "_model_module": "@jupyter-widgets/controls",
      "_model_module_version": "1.5.0",
      "_model_name": "SelectModel",
      "_options_labels": [
       "temperature",
       "cones sold"
      ],
      "_view_count": null,
      "_view_module": "@jupyter-widgets/controls",
      "_view_module_version": "1.5.0",
      "_view_name": "SelectView",
      "description": "x axis:",
      "description_tooltip": null,
      "disabled": false,
      "index": 0,
      "layout": "IPY_MODEL_3e2fc7b4b319482a80e6f8defb6e3fbf",
      "rows": 5,
      "style": "IPY_MODEL_f256374de4ce4771aaa63dec105d362a"
     }
    },
    "7e288dbfab264f5cbdf9bc2f00e05542": {
     "model_module": "@jupyter-widgets/controls",
     "model_module_version": "1.5.0",
     "model_name": "LabelModel",
     "state": {
      "_dom_classes": [],
      "_model_module": "@jupyter-widgets/controls",
      "_model_module_version": "1.5.0",
      "_model_name": "LabelModel",
      "_view_count": null,
      "_view_module": "@jupyter-widgets/controls",
      "_view_module_version": "1.5.0",
      "_view_name": "LabelView",
      "description": "",
      "description_tooltip": null,
      "layout": "IPY_MODEL_bf1773c586b445e59a01f984e0c9601d",
      "placeholder": "​",
      "style": "IPY_MODEL_dc35bbe7f3aa42b0b14814c4fb1f962d",
      "value": "Ice Cream example"
     }
    },
    "80dfdea6e45a4c98842aeaacfbcba304": {
     "model_module": "jupyter-matplotlib",
     "model_module_version": "^0.11",
     "model_name": "MPLCanvasModel",
     "state": {
      "_cursor": "default",
      "_data_url": null,
      "_dom_classes": [],
      "_figure_label": "Figure 1",
      "_image_mode": "full",
      "_message": "x=57.84 y=69.74",
      "_model_module": "jupyter-matplotlib",
      "_model_module_version": "^0.11",
      "_model_name": "MPLCanvasModel",
      "_rubberband_height": 0,
      "_rubberband_width": 0,
      "_rubberband_x": 0,
      "_rubberband_y": 0,
      "_size": [
       824,
       559
      ],
      "_view_count": null,
      "_view_module": "jupyter-matplotlib",
      "_view_module_version": "^0.11",
      "_view_name": "MPLCanvasView",
      "capture_scroll": false,
      "footer_visible": false,
      "header_visible": false,
      "layout": "IPY_MODEL_f8169c6fc8624cc99d27e45bac010ee4",
      "pan_zoom_throttle": 33,
      "resizable": true,
      "toolbar": "IPY_MODEL_2f50b0070a3840f4ae5f285af0ee3628",
      "toolbar_position": "left",
      "toolbar_visible": "fade-in-fade-out"
     }
    },
    "8a620358a5b24b03808fe292132cf272": {
     "model_module": "@jupyter-widgets/controls",
     "model_module_version": "1.5.0",
     "model_name": "HBoxModel",
     "state": {
      "_dom_classes": [],
      "_model_module": "@jupyter-widgets/controls",
      "_model_module_version": "1.5.0",
      "_model_name": "HBoxModel",
      "_view_count": null,
      "_view_module": "@jupyter-widgets/controls",
      "_view_module_version": "1.5.0",
      "_view_name": "HBoxView",
      "box_style": "",
      "children": [
       "IPY_MODEL_3d276b2d2786410a9d7987c3a275a808",
       "IPY_MODEL_7e288dbfab264f5cbdf9bc2f00e05542"
      ],
      "layout": "IPY_MODEL_a703c0ee980a43268ea307e615098179"
     }
    },
    "8bcfff42da644039b81f8c9865233754": {
     "model_module": "@jupyter-widgets/base",
     "model_module_version": "1.2.0",
     "model_name": "LayoutModel",
     "state": {
      "_model_module": "@jupyter-widgets/base",
      "_model_module_version": "1.2.0",
      "_model_name": "LayoutModel",
      "_view_count": null,
      "_view_module": "@jupyter-widgets/base",
      "_view_module_version": "1.2.0",
      "_view_name": "LayoutView",
      "align_content": null,
      "align_items": null,
      "align_self": null,
      "border": null,
      "bottom": null,
      "display": null,
      "flex": null,
      "flex_flow": null,
      "grid_area": null,
      "grid_auto_columns": null,
      "grid_auto_flow": null,
      "grid_auto_rows": null,
      "grid_column": null,
      "grid_gap": null,
      "grid_row": null,
      "grid_template_areas": null,
      "grid_template_columns": null,
      "grid_template_rows": null,
      "height": null,
      "justify_content": null,
      "justify_items": null,
      "left": null,
      "margin": null,
      "max_height": null,
      "max_width": null,
      "min_height": null,
      "min_width": null,
      "object_fit": null,
      "object_position": null,
      "order": null,
      "overflow": null,
      "overflow_x": null,
      "overflow_y": null,
      "padding": null,
      "right": null,
      "top": null,
      "visibility": null,
      "width": null
     }
    },
    "8e1a11ab980b4ed1be0c84adeb2b9b8f": {
     "model_module": "@jupyter-widgets/controls",
     "model_module_version": "1.5.0",
     "model_name": "DescriptionStyleModel",
     "state": {
      "_model_module": "@jupyter-widgets/controls",
      "_model_module_version": "1.5.0",
      "_model_name": "DescriptionStyleModel",
      "_view_count": null,
      "_view_module": "@jupyter-widgets/base",
      "_view_module_version": "1.2.0",
      "_view_name": "StyleView",
      "description_width": ""
     }
    },
    "9e183a66a56840b89a2f68d48989f9a4": {
     "model_module": "@jupyter-widgets/controls",
     "model_module_version": "1.5.0",
     "model_name": "SelectModel",
     "state": {
      "_dom_classes": [],
      "_model_module": "@jupyter-widgets/controls",
      "_model_module_version": "1.5.0",
      "_model_name": "SelectModel",
      "_options_labels": [
       "temperature",
       "cones sold"
      ],
      "_view_count": null,
      "_view_module": "@jupyter-widgets/controls",
      "_view_module_version": "1.5.0",
      "_view_name": "SelectView",
      "description": "y axis:",
      "description_tooltip": null,
      "disabled": false,
      "index": 1,
      "layout": "IPY_MODEL_8bcfff42da644039b81f8c9865233754",
      "rows": 5,
      "style": "IPY_MODEL_e10cdf76fad74bbd9de3eb6b8e38bbcf"
     }
    },
    "a703c0ee980a43268ea307e615098179": {
     "model_module": "@jupyter-widgets/base",
     "model_module_version": "1.2.0",
     "model_name": "LayoutModel",
     "state": {
      "_model_module": "@jupyter-widgets/base",
      "_model_module_version": "1.2.0",
      "_model_name": "LayoutModel",
      "_view_count": null,
      "_view_module": "@jupyter-widgets/base",
      "_view_module_version": "1.2.0",
      "_view_name": "LayoutView",
      "align_content": null,
      "align_items": null,
      "align_self": null,
      "border": null,
      "bottom": null,
      "display": null,
      "flex": null,
      "flex_flow": null,
      "grid_area": null,
      "grid_auto_columns": null,
      "grid_auto_flow": null,
      "grid_auto_rows": null,
      "grid_column": null,
      "grid_gap": null,
      "grid_row": null,
      "grid_template_areas": null,
      "grid_template_columns": null,
      "grid_template_rows": null,
      "height": null,
      "justify_content": null,
      "justify_items": null,
      "left": null,
      "margin": null,
      "max_height": null,
      "max_width": null,
      "min_height": null,
      "min_width": null,
      "object_fit": null,
      "object_position": null,
      "order": null,
      "overflow": null,
      "overflow_x": null,
      "overflow_y": null,
      "padding": null,
      "right": null,
      "top": null,
      "visibility": null,
      "width": null
     }
    },
    "a8363228e9004f32a614a308a3e2f9b1": {
     "model_module": "@jupyter-widgets/base",
     "model_module_version": "1.2.0",
     "model_name": "LayoutModel",
     "state": {
      "_model_module": "@jupyter-widgets/base",
      "_model_module_version": "1.2.0",
      "_model_name": "LayoutModel",
      "_view_count": null,
      "_view_module": "@jupyter-widgets/base",
      "_view_module_version": "1.2.0",
      "_view_name": "LayoutView",
      "align_content": null,
      "align_items": null,
      "align_self": null,
      "border": null,
      "bottom": null,
      "display": null,
      "flex": null,
      "flex_flow": null,
      "grid_area": null,
      "grid_auto_columns": null,
      "grid_auto_flow": null,
      "grid_auto_rows": null,
      "grid_column": null,
      "grid_gap": null,
      "grid_row": null,
      "grid_template_areas": null,
      "grid_template_columns": null,
      "grid_template_rows": null,
      "height": null,
      "justify_content": null,
      "justify_items": null,
      "left": null,
      "margin": null,
      "max_height": null,
      "max_width": null,
      "min_height": null,
      "min_width": null,
      "object_fit": null,
      "object_position": null,
      "order": null,
      "overflow": null,
      "overflow_x": null,
      "overflow_y": null,
      "padding": null,
      "right": null,
      "top": null,
      "visibility": null,
      "width": null
     }
    },
    "bcdfa71c91e44c9994f519d2c3b6f7bb": {
     "model_module": "jupyter-matplotlib",
     "model_module_version": "^0.11",
     "model_name": "MPLCanvasModel",
     "state": {
      "_cursor": "pointer",
      "_data_url": "data:image/png;base64,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",
      "_dom_classes": [],
      "_figure_label": "Figure 2",
      "_image_mode": "full",
      "_message": "x=77.96 y=53.50",
      "_model_module": "jupyter-matplotlib",
      "_model_module_version": "^0.11",
      "_model_name": "MPLCanvasModel",
      "_rubberband_height": 0,
      "_rubberband_width": 0,
      "_rubberband_x": 0,
      "_rubberband_y": 0,
      "_size": [
       600,
       600
      ],
      "_view_count": null,
      "_view_module": "jupyter-matplotlib",
      "_view_module_version": "^0.11",
      "_view_name": "MPLCanvasView",
      "capture_scroll": false,
      "footer_visible": false,
      "header_visible": false,
      "layout": "IPY_MODEL_69d33f06a6a74374a459c05063929f10",
      "pan_zoom_throttle": 33,
      "resizable": true,
      "toolbar": "IPY_MODEL_684c1574e71a4b9fba2c974c35eba477",
      "toolbar_position": "left",
      "toolbar_visible": "fade-in-fade-out"
     }
    },
    "bf1773c586b445e59a01f984e0c9601d": {
     "model_module": "@jupyter-widgets/base",
     "model_module_version": "1.2.0",
     "model_name": "LayoutModel",
     "state": {
      "_model_module": "@jupyter-widgets/base",
      "_model_module_version": "1.2.0",
      "_model_name": "LayoutModel",
      "_view_count": null,
      "_view_module": "@jupyter-widgets/base",
      "_view_module_version": "1.2.0",
      "_view_name": "LayoutView",
      "align_content": null,
      "align_items": null,
      "align_self": null,
      "border": null,
      "bottom": null,
      "display": null,
      "flex": null,
      "flex_flow": null,
      "grid_area": null,
      "grid_auto_columns": null,
      "grid_auto_flow": null,
      "grid_auto_rows": null,
      "grid_column": null,
      "grid_gap": null,
      "grid_row": null,
      "grid_template_areas": null,
      "grid_template_columns": null,
      "grid_template_rows": null,
      "height": null,
      "justify_content": null,
      "justify_items": null,
      "left": null,
      "margin": null,
      "max_height": null,
      "max_width": null,
      "min_height": null,
      "min_width": null,
      "object_fit": null,
      "object_position": null,
      "order": null,
      "overflow": null,
      "overflow_x": null,
      "overflow_y": null,
      "padding": null,
      "right": null,
      "top": null,
      "visibility": null,
      "width": null
     }
    },
    "d7c92ac7989d424388eb2db6df11ceb3": {
     "model_module": "@jupyter-widgets/base",
     "model_module_version": "1.2.0",
     "model_name": "LayoutModel",
     "state": {
      "_model_module": "@jupyter-widgets/base",
      "_model_module_version": "1.2.0",
      "_model_name": "LayoutModel",
      "_view_count": null,
      "_view_module": "@jupyter-widgets/base",
      "_view_module_version": "1.2.0",
      "_view_name": "LayoutView",
      "align_content": null,
      "align_items": null,
      "align_self": null,
      "border": null,
      "bottom": null,
      "display": null,
      "flex": null,
      "flex_flow": null,
      "grid_area": null,
      "grid_auto_columns": null,
      "grid_auto_flow": null,
      "grid_auto_rows": null,
      "grid_column": null,
      "grid_gap": null,
      "grid_row": null,
      "grid_template_areas": null,
      "grid_template_columns": null,
      "grid_template_rows": null,
      "height": null,
      "justify_content": null,
      "justify_items": null,
      "left": null,
      "margin": null,
      "max_height": null,
      "max_width": null,
      "min_height": null,
      "min_width": null,
      "object_fit": null,
      "object_position": null,
      "order": null,
      "overflow": null,
      "overflow_x": null,
      "overflow_y": null,
      "padding": null,
      "right": null,
      "top": null,
      "visibility": null,
      "width": null
     }
    },
    "dc35bbe7f3aa42b0b14814c4fb1f962d": {
     "model_module": "@jupyter-widgets/controls",
     "model_module_version": "1.5.0",
     "model_name": "DescriptionStyleModel",
     "state": {
      "_model_module": "@jupyter-widgets/controls",
      "_model_module_version": "1.5.0",
      "_model_name": "DescriptionStyleModel",
      "_view_count": null,
      "_view_module": "@jupyter-widgets/base",
      "_view_module_version": "1.2.0",
      "_view_name": "StyleView",
      "description_width": ""
     }
    },
    "e10cdf76fad74bbd9de3eb6b8e38bbcf": {
     "model_module": "@jupyter-widgets/controls",
     "model_module_version": "1.5.0",
     "model_name": "DescriptionStyleModel",
     "state": {
      "_model_module": "@jupyter-widgets/controls",
      "_model_module_version": "1.5.0",
      "_model_name": "DescriptionStyleModel",
      "_view_count": null,
      "_view_module": "@jupyter-widgets/base",
      "_view_module_version": "1.2.0",
      "_view_name": "StyleView",
      "description_width": ""
     }
    },
    "f256374de4ce4771aaa63dec105d362a": {
     "model_module": "@jupyter-widgets/controls",
     "model_module_version": "1.5.0",
     "model_name": "DescriptionStyleModel",
     "state": {
      "_model_module": "@jupyter-widgets/controls",
      "_model_module_version": "1.5.0",
      "_model_name": "DescriptionStyleModel",
      "_view_count": null,
      "_view_module": "@jupyter-widgets/base",
      "_view_module_version": "1.2.0",
      "_view_name": "StyleView",
      "description_width": ""
     }
    },
    "f8169c6fc8624cc99d27e45bac010ee4": {
     "model_module": "@jupyter-widgets/base",
     "model_module_version": "1.2.0",
     "model_name": "LayoutModel",
     "state": {
      "_model_module": "@jupyter-widgets/base",
      "_model_module_version": "1.2.0",
      "_model_name": "LayoutModel",
      "_view_count": null,
      "_view_module": "@jupyter-widgets/base",
      "_view_module_version": "1.2.0",
      "_view_name": "LayoutView",
      "align_content": null,
      "align_items": null,
      "align_self": null,
      "border": null,
      "bottom": null,
      "display": null,
      "flex": null,
      "flex_flow": null,
      "grid_area": null,
      "grid_auto_columns": null,
      "grid_auto_flow": null,
      "grid_auto_rows": null,
      "grid_column": null,
      "grid_gap": null,
      "grid_row": null,
      "grid_template_areas": null,
      "grid_template_columns": null,
      "grid_template_rows": null,
      "height": null,
      "justify_content": null,
      "justify_items": null,
      "left": null,
      "margin": null,
      "max_height": null,
      "max_width": null,
      "min_height": null,
      "min_width": null,
      "object_fit": null,
      "object_position": null,
      "order": null,
      "overflow": null,
      "overflow_x": null,
      "overflow_y": null,
      "padding": null,
      "right": null,
      "top": null,
      "visibility": null,
      "width": null
     }
    }
   }
  }
 },
 "nbformat": 4,
 "nbformat_minor": 5
}
